{
 "cells": [
  {
   "cell_type": "markdown",
   "metadata": {},
   "source": [
    "# Teachers Prediction:"
   ]
  },
  {
   "cell_type": "markdown",
   "metadata": {},
   "source": [
    "## 1. Predict bad teacher:\n",
    "This part of the jupyter's notebook computes different models to predict if a teacher performed bad (least 30 percentile) in the portfolio test based on information we have about their performance in PAA/PSU and GPA."
   ]
  },
  {
   "cell_type": "code",
   "execution_count": 1,
   "metadata": {},
   "outputs": [],
   "source": [
    "import pandas as pd\n",
    "import numpy as np\n",
    "import os\n",
    "import seaborn as sns\n",
    "%matplotlib inline\n",
    "from matplotlib import pyplot\n",
    "import matplotlib.pyplot as plt\n",
    "import plotly.plotly as py\n",
    "from scipy import stats\n",
    "from sklearn import datasets, linear_model, preprocessing\n",
    "from sklearn.ensemble import RandomForestClassifier\n",
    "from sklearn.linear_model import LogisticRegression\n",
    "from sklearn.tree import DecisionTreeClassifier\n",
    "from sklearn.model_selection import train_test_split, cross_val_score\n",
    "from sklearn import tree, svm\n",
    "from sklearn.metrics import accuracy_score, roc_auc_score\n",
    "from sklearn.linear_model import LinearRegression"
   ]
  },
  {
   "cell_type": "markdown",
   "metadata": {},
   "source": [
    "First, let's open the information available to run the models:"
   ]
  },
  {
   "cell_type": "code",
   "execution_count": 2,
   "metadata": {},
   "outputs": [
    {
     "data": {
      "text/html": [
       "<div>\n",
       "<style scoped>\n",
       "    .dataframe tbody tr th:only-of-type {\n",
       "        vertical-align: middle;\n",
       "    }\n",
       "\n",
       "    .dataframe tbody tr th {\n",
       "        vertical-align: top;\n",
       "    }\n",
       "\n",
       "    .dataframe thead th {\n",
       "        text-align: right;\n",
       "    }\n",
       "</style>\n",
       "<table border=\"1\" class=\"dataframe\">\n",
       "  <thead>\n",
       "    <tr style=\"text-align: right;\">\n",
       "      <th></th>\n",
       "      <th>periodo</th>\n",
       "      <th>ciclo</th>\n",
       "      <th>subsector</th>\n",
       "      <th>pf_pje</th>\n",
       "      <th>instr_pje</th>\n",
       "      <th>esc_r</th>\n",
       "      <th>Te_EvLevel</th>\n",
       "      <th>proceso</th>\n",
       "      <th>pref</th>\n",
       "      <th>cod</th>\n",
       "      <th>...</th>\n",
       "      <th>DeltaAvePrivado2</th>\n",
       "      <th>Duration</th>\n",
       "      <th>Duration2</th>\n",
       "      <th>DeltaDuration</th>\n",
       "      <th>DeltaDuration2</th>\n",
       "      <th>Type1</th>\n",
       "      <th>Type2</th>\n",
       "      <th>Type3</th>\n",
       "      <th>Type4</th>\n",
       "      <th>_merge</th>\n",
       "    </tr>\n",
       "  </thead>\n",
       "  <tbody>\n",
       "    <tr>\n",
       "      <th>0</th>\n",
       "      <td>2006</td>\n",
       "      <td>2do Ciclo</td>\n",
       "      <td>Matemática</td>\n",
       "      <td>2.27</td>\n",
       "      <td>2.66</td>\n",
       "      <td>Competente</td>\n",
       "      <td>2</td>\n",
       "      <td>1977</td>\n",
       "      <td>1.0</td>\n",
       "      <td>3537</td>\n",
       "      <td>...</td>\n",
       "      <td>-0.014692</td>\n",
       "      <td>6.0</td>\n",
       "      <td>36.0</td>\n",
       "      <td>1.0</td>\n",
       "      <td>11.0</td>\n",
       "      <td>0</td>\n",
       "      <td>1</td>\n",
       "      <td>0</td>\n",
       "      <td>0</td>\n",
       "      <td>3</td>\n",
       "    </tr>\n",
       "    <tr>\n",
       "      <th>1</th>\n",
       "      <td>2006</td>\n",
       "      <td>2do Ciclo</td>\n",
       "      <td>Matemática</td>\n",
       "      <td>2.27</td>\n",
       "      <td>2.66</td>\n",
       "      <td>Competente</td>\n",
       "      <td>2</td>\n",
       "      <td>1978</td>\n",
       "      <td>3.0</td>\n",
       "      <td>3303</td>\n",
       "      <td>...</td>\n",
       "      <td>NaN</td>\n",
       "      <td>5.0</td>\n",
       "      <td>25.0</td>\n",
       "      <td>NaN</td>\n",
       "      <td>NaN</td>\n",
       "      <td>0</td>\n",
       "      <td>1</td>\n",
       "      <td>0</td>\n",
       "      <td>0</td>\n",
       "      <td>3</td>\n",
       "    </tr>\n",
       "  </tbody>\n",
       "</table>\n",
       "<p>2 rows × 159 columns</p>\n",
       "</div>"
      ],
      "text/plain": [
       "   periodo      ciclo   subsector  pf_pje  instr_pje       esc_r  Te_EvLevel  \\\n",
       "0     2006  2do Ciclo  Matemática    2.27       2.66  Competente           2   \n",
       "1     2006  2do Ciclo  Matemática    2.27       2.66  Competente           2   \n",
       "\n",
       "   proceso  pref   cod   ...    DeltaAvePrivado2  Duration  Duration2  \\\n",
       "0     1977   1.0  3537   ...           -0.014692       6.0       36.0   \n",
       "1     1978   3.0  3303   ...                 NaN       5.0       25.0   \n",
       "\n",
       "   DeltaDuration  DeltaDuration2  Type1  Type2  Type3  Type4  _merge  \n",
       "0            1.0            11.0      0      1      0      0       3  \n",
       "1            NaN             NaN      0      1      0      0       3  \n",
       "\n",
       "[2 rows x 159 columns]"
      ]
     },
     "execution_count": 2,
     "metadata": {},
     "output_type": "execute_result"
    }
   ],
   "source": [
    "df_path = os.getcwd() + '\\data\\PAA-evdoc.csv'\n",
    "df = None\n",
    "#with open(df_path, encoding=\"utf-16\") as f:\n",
    "with open(df_path, \"r\") as f:\n",
    "    df = pd.read_csv(f)\n",
    "\n",
    "df.head(2)"
   ]
  },
  {
   "cell_type": "markdown",
   "metadata": {},
   "source": [
    "Quick df clean:"
   ]
  },
  {
   "cell_type": "code",
   "execution_count": 3,
   "metadata": {},
   "outputs": [],
   "source": [
    "#Quick df clean:\n",
    "scores = ['paa_verbal', 'paa_matematica', 'nem', 'gpa', 'pce_hria_y_geografia', 'pce_biologia', 'pce_cs_sociales', 'pce_fisica', 'pce_matematica', 'pce_quimica']\n",
    "cat = ['region', 'male']\n",
    "df_s = df[scores].copy()\n",
    "\n",
    "bygroup = 0\n",
    "if bygroup == 1:\n",
    "    df_s['periodo'] = df['periodo']\n",
    "    df_s = df_s.groupby('periodo').transform(lambda x: (x - x.mean()) / x.std())\n",
    "else:\n",
    "    df_s = (df[scores] - df[scores].mean())/df[scores].std()\n",
    "df_s['Average'] = (df['paa_verbal'] + df['paa_matematica'])/2\n",
    "\n",
    "df_c = df[cat].copy()\n",
    "\n",
    "df_s['took_hist'] = (df.pce_hria_y_geografia == 0)\n",
    "df_s['took_bio'] = (df.pce_biologia == 0)\n",
    "df_s['took_soc'] = (df.pce_cs_sociales == 0)\n",
    "df_s['took_fis'] = (df.pce_fisica == 0)\n",
    "df_s['took_mat'] = (df.pce_matematica == 0)\n",
    "df_s['took_qui'] = (df.pce_quimica == 0)\n",
    "\n",
    "y = df['pf_pje']\n",
    "\n",
    "df = pd.concat([df_s, df_c, y], axis=1, sort=False)\n",
    "\n",
    "df = df.dropna()\n",
    "df.region = df.region.astype(int)\n",
    "df.male = df.male.astype(int)\n",
    "\n",
    "#Divide the sample distribution in 10 types:\n",
    "df['xtile'] = pd.qcut(df.pf_pje, 10, labels = ['percentil: '+str(i) for i in range(10)])\n",
    "df['worst'] = (df['xtile'] == 'percentil: 0' ) | (df['xtile'] == 'percentil: 1') | (df['xtile'] == 'percentil: 2')\n",
    "\n",
    "df.columns = ['paaverbal' if x=='paa_verbal' else 'paamat' if x =='paa_matematica' else x for x in df.columns] #Change colname\n",
    "\n",
    "x_variables = [x if (x!='pf_pje' and x!='xtile' and x!='worst' and x!='region9') else \"AAA\" for x in list(df)]\n",
    "x_variables = sorted(list(set(x_variables)))\n",
    "del x_variables[0]\n",
    "\n",
    "X_transformed = df[x_variables].dropna().drop(columns = ['region',\n",
    "'pce_biologia', 'pce_cs_sociales', 'pce_fisica', 'pce_hria_y_geografia', 'pce_matematica', 'pce_quimica'])\n",
    "#'took_bio', 'took_fis', 'took_hist', 'took_mat', 'took_qui', 'took_soc', 'paamat', 'paaverbal'\n",
    "\n",
    "X_transformed['paa_avg'] = (X_transformed.Average - X_transformed.Average.mean())/X_transformed.Average.std()\n",
    "Y = df['worst']\n",
    "\n",
    "X_transformed = X_transformed.drop(columns = ['Average', 'paa_avg', 'gpa'])\n",
    "\n",
    "X_train_transformed, X_test_transformed, y_train, y_test = train_test_split(X_transformed, Y, test_size=0.15)\n"
   ]
  },
  {
   "cell_type": "markdown",
   "metadata": {},
   "source": [
    "### 1.1. Likelihood vs teacher performance scatterplot"
   ]
  },
  {
   "cell_type": "markdown",
   "metadata": {},
   "source": [
    "Define a function which inserts the predictions (predict) and the likelihood (predict_proba) in the main dataframe. One can easily change the model introducing the name of the predictive model in the args."
   ]
  },
  {
   "cell_type": "code",
   "execution_count": 4,
   "metadata": {},
   "outputs": [],
   "source": [
    "def gen_predictions(Classifier, X_train, X_test, y_train):\n",
    "    from sklearn import tree, svm\n",
    "    SVC = svm.SVC\n",
    "    if Classifier == SVC:\n",
    "        clf = Classifier(C=1, probability=True)\n",
    "    else:\n",
    "        clf = Classifier()\n",
    "    clf = clf.fit(X_train, y_train)\n",
    "\n",
    "    y_test_hat = clf.predict_proba(X_test)[:,1]  #Prob of bad Teacher\n",
    "    y_test_predict = clf.predict(X_test)  #Prob of bad Teacher\n",
    "\n",
    "    ndf = y_test_hat.shape[0]\n",
    "    df_ml_test = X_test.copy()\n",
    "    df_ml_test['y_test_hat'] = y_test_hat\n",
    "    df_ml_test = df_ml_test.sort_values(by = ['y_test_hat'])\n",
    "\n",
    "    return df_ml_test, clf.predict_proba(X_test), y_test_predict"
   ]
  },
  {
   "cell_type": "code",
   "execution_count": 5,
   "metadata": {},
   "outputs": [],
   "source": [
    "df_rf_test , y_test_hat, y_test_predict = gen_predictions(RandomForestClassifier, X_train_transformed, X_test_transformed, y_train)"
   ]
  },
  {
   "cell_type": "code",
   "execution_count": 6,
   "metadata": {},
   "outputs": [
    {
     "name": "stdout",
     "output_type": "stream",
     "text": [
      "Overall Accuracy: 0.90 \n",
      "Type 1 error: 0.25 \n",
      "Type 2 error:  0.09\n"
     ]
    }
   ],
   "source": [
    "accuracy = np.mean(y_test_predict == y_test)\n",
    "type1_error = 1 - np.mean(y_test[y_test==1] == y_test_predict[y_test==1]) #Type 1 error: Probabilidad de predecir que no es malo cuando si lo es\n",
    "type2_error = 1 - np.mean(y_test[y_test_predict == 1] == y_test_predict[y_test_predict == 1]) #probabilidad de predecir que profesor es malo cuando en realidad es bueno (Error tipo 2)\n",
    "\n",
    "print(\"Overall Accuracy: %.2f \\nType 1 error: %.2f \\nType 2 error:  %.2f\" % (accuracy, type1_error, type2_error))\n"
   ]
  },
  {
   "cell_type": "markdown",
   "metadata": {},
   "source": [
    "Plot Results of the Model. In this case we are using Random forest Estimation"
   ]
  },
  {
   "cell_type": "markdown",
   "metadata": {},
   "source": [
    "#### Graph 1: Likelihood vs PAA Math"
   ]
  },
  {
   "cell_type": "code",
   "execution_count": 7,
   "metadata": {},
   "outputs": [
    {
     "data": {
      "text/plain": [
       "Text(0.5,0,'PAA Math')"
      ]
     },
     "execution_count": 7,
     "metadata": {},
     "output_type": "execute_result"
    },
    {
     "data": {
      "image/png": "[encoded data removed]",
      "text/plain": [
       "<matplotlib.figure.Figure at 0x1969101f6d8>"
      ]
     },
     "metadata": {},
     "output_type": "display_data"
    }
   ],
   "source": [
    "sns.regplot(df_rf_test.paamat, df_rf_test.y_test_hat, x_bins = 15)\n",
    "plt.ylabel(r'$\\^Yprob$')\n",
    "plt.xlabel('PAA Math')\n",
    "#plt.savefig(r'C:\\\\Users\\\\Franco\\\\GitHub\\\\teacher-predictions\\\\output\\\\Pr_vs_paa_mat.pdf', bbox_inches='tight')"
   ]
  },
  {
   "cell_type": "markdown",
   "metadata": {},
   "source": [
    "#### Graph 2: Likelihood vs PAA Verbal"
   ]
  },
  {
   "cell_type": "code",
   "execution_count": 8,
   "metadata": {},
   "outputs": [
    {
     "data": {
      "text/plain": [
       "Text(0.5,0,'PAA Verbal')"
      ]
     },
     "execution_count": 8,
     "metadata": {},
     "output_type": "execute_result"
    },
    {
     "data": {
      "image/png": "[encoded data removed]",
      "text/plain": [
       "<matplotlib.figure.Figure at 0x19690fcc080>"
      ]
     },
     "metadata": {},
     "output_type": "display_data"
    }
   ],
   "source": [
    "sns.regplot(df_rf_test.paaverbal, df_rf_test.y_test_hat, x_bins = 15)\n",
    "plt.ylabel(r'$\\^Yprob$')\n",
    "plt.xlabel('PAA Verbal')\n",
    "#plt.savefig(r'C:\\\\Users\\\\Franco\\\\GitHub\\\\teacher-predictions\\\\output\\\\Pr_vs_paa_verbal.pdf', bbox_inches='tight')"
   ]
  },
  {
   "cell_type": "markdown",
   "metadata": {},
   "source": [
    "#### Graph 3: Likelihood vs PAA Average"
   ]
  },
  {
   "cell_type": "code",
   "execution_count": 9,
   "metadata": {},
   "outputs": [
    {
     "data": {
      "text/plain": [
       "Text(0.5,0,'PAA Average')"
      ]
     },
     "execution_count": 9,
     "metadata": {},
     "output_type": "execute_result"
    },
    {
     "data": {
      "image/png": "[encoded data removed]",
      "text/plain": [
       "<matplotlib.figure.Figure at 0x196917a9828>"
      ]
     },
     "metadata": {},
     "output_type": "display_data"
    }
   ],
   "source": [
    "df_rf_test['paa_avg'] = (df_rf_test.paaverbal + df_rf_test.paamat)/2\n",
    "sns.regplot(df_rf_test.paa_avg, df_rf_test.y_test_hat, x_bins = 15)\n",
    "plt.ylabel(r'$\\^Yprob$')\n",
    "plt.xlabel('PAA Average')\n",
    "#plt.savefig(r'C:\\\\Users\\\\Franco\\\\GitHub\\\\teacher-predictions\\\\output\\\\Pr_vs_paa_avg.pdf', bbox_inches='tight')"
   ]
  },
  {
   "cell_type": "markdown",
   "metadata": {},
   "source": [
    "#### Graph 4: Likelihood vs GPA"
   ]
  },
  {
   "cell_type": "code",
   "execution_count": 11,
   "metadata": {},
   "outputs": [
    {
     "data": {
      "text/plain": [
       "Text(0.5,0,'GPA')"
      ]
     },
     "execution_count": 11,
     "metadata": {},
     "output_type": "execute_result"
    },
    {
     "data": {
      "image/png": "[encoded data removed]",
      "text/plain": [
       "<matplotlib.figure.Figure at 0x196918d12b0>"
      ]
     },
     "metadata": {},
     "output_type": "display_data"
    }
   ],
   "source": [
    "sns.regplot(df_rf_test.nem, df_rf_test.y_test_hat, x_bins = 15)\n",
    "plt.ylabel(r'$\\^Yprob$')\n",
    "plt.xlabel('GPA')\n",
    "#plt.savefig(r'C:\\\\Users\\\\Franco\\\\GitHub\\\\teacher-predictions\\\\output\\\\Pr_vs_gpa.pdf', bbox_inches='tight')"
   ]
  },
  {
   "cell_type": "markdown",
   "metadata": {},
   "source": [
    "### 1.2. Sensitivity Analysis"
   ]
  },
  {
   "cell_type": "markdown",
   "metadata": {},
   "source": [
    "#### Graph 5: Accuracy of the model by each level likelihood"
   ]
  },
  {
   "cell_type": "code",
   "execution_count": 12,
   "metadata": {},
   "outputs": [
    {
     "data": {
      "text/plain": [
       "Text(0,0.5,'Accuracy: 1 - Pr(failure)')"
      ]
     },
     "execution_count": 12,
     "metadata": {},
     "output_type": "execute_result"
    },
    {
     "data": {
      "image/png": "[encoded data removed]",
      "text/plain": [
       "<matplotlib.figure.Figure at 0x19691905c50>"
      ]
     },
     "metadata": {},
     "output_type": "display_data"
    }
   ],
   "source": [
    "accuracy_list = []\n",
    "pr_list = list(np.unique(y_test_hat[:,1][y_test_hat[:,1]>=.5]))\n",
    "for pr in pr_list:\n",
    "    acc = np.mean(y_test[y_test_hat[:,1]>=pr] == y_test_predict[y_test_hat[:,1]>=pr])\n",
    "    accuracy_list.append(acc)\n",
    "\n",
    "ticks = np.arange(len(accuracy_list))\n",
    "pr_list = [round(x, 2) for x in pr_list]\n",
    "ticks_label = [str(x) for x in pr_list]\n",
    "\n",
    "plt.bar(ticks,accuracy_list, align='center', alpha=0.7, color = 'gray')\n",
    "plt.xticks(ticks, ticks_label)\n",
    "plt.xlabel('Y hat')\n",
    "plt.ylabel('Accuracy: 1 - Pr(failure)')\n",
    "#plt.savefig(r'D:\\\\Google Drive\\\\Teacher Quality\\\\4. Work\\\\Prediction\\\\Appendix\\\\accuracy.pdf', bbox_inches='tight')"
   ]
  },
  {
   "cell_type": "markdown",
   "metadata": {},
   "source": [
    "### 1.3. Cross Validation"
   ]
  },
  {
   "cell_type": "code",
   "execution_count": 14,
   "metadata": {},
   "outputs": [
    {
     "name": "stdout",
     "output_type": "stream",
     "text": [
      "Crosvalidation: 49\n",
      "Crosvalidation: 99\n",
      "Crosvalidation: 149\n"
     ]
    }
   ],
   "source": [
    "from sklearn import tree, svm\n",
    "from sklearn.ensemble import AdaBoostClassifier, AdaBoostRegressor\n",
    "from sklearn.tree import DecisionTreeClassifier, DecisionTreeRegressor\n",
    "#CrossValidation Excercise Accuracy tests:\n",
    "accuracy_type2_rf = []\n",
    "accuracy_overall_rf = []\n",
    "\n",
    "accuracy_type2_dt = []\n",
    "accuracy_overall_dt = []\n",
    "\n",
    "accuracy_type2_svc = []\n",
    "accuracy_overall_svc = []\n",
    "\n",
    "accuracy_type2_lr = []\n",
    "accuracy_overall_lr = []\n",
    "\n",
    "# Cross Validate\n",
    "\n",
    "for i in range(150):\n",
    "\n",
    "    X_train_transformed, X_test_transformed, y_train, y_test = train_test_split(X_transformed, Y, test_size=0.15)\n",
    "\n",
    "    clf = RandomForestClassifier()\n",
    "    clf = clf.fit(X_train_transformed, y_train)\n",
    "    y_test_hat = clf.predict(X_test_transformed)  #Prob of bad Teacher\n",
    "    acc_overall = np.mean(y_test == y_test_hat)\n",
    "    acc_type2 = np.mean(y_test[y_test_hat==1] == y_test_hat[y_test_hat==1])\n",
    "    accuracy_overall_rf.append(acc_overall)\n",
    "    accuracy_type2_rf.append(acc_type2)\n",
    "\n",
    "    clf = DecisionTreeClassifier()\n",
    "    clf = clf.fit(X_train_transformed, y_train)\n",
    "    y_test_hat = clf.predict(X_test_transformed)  #Prob of bad Teacher\n",
    "    acc_overall = np.mean(y_test == y_test_hat)\n",
    "    acc_type2 = np.mean(y_test[y_test_hat==1] == y_test_hat[y_test_hat==1])\n",
    "    accuracy_overall_dt.append(acc_overall)\n",
    "    accuracy_type2_dt.append(acc_type2)\n",
    "\n",
    "    clf = LogisticRegression()\n",
    "    clf = clf.fit(X_train_transformed, y_train)\n",
    "    y_test_hat = clf.predict(X_test_transformed)  #Prob of bad Teacher\n",
    "    acc_overall = np.mean(y_test == y_test_hat)\n",
    "    acc_type2 = np.mean(y_test[y_test_hat==1] == y_test_hat[y_test_hat==1])\n",
    "    accuracy_overall_lr.append(acc_overall)\n",
    "    accuracy_type2_lr.append(acc_type2)\n",
    "    \n",
    "    if (i+1)%50 == 0:\n",
    "        print(f\"Crosvalidation: {i}\")\n"
   ]
  },
  {
   "cell_type": "markdown",
   "metadata": {},
   "source": [
    "#### Graph 6: Cross Validation Random Forest"
   ]
  },
  {
   "cell_type": "code",
   "execution_count": 15,
   "metadata": {},
   "outputs": [
    {
     "data": {
      "text/plain": [
       "<matplotlib.legend.Legend at 0x19691d828d0>"
      ]
     },
     "execution_count": 15,
     "metadata": {},
     "output_type": "execute_result"
    },
    {
     "data": {
      "image/png": "[encoded data removed]",
      "text/plain": [
       "<matplotlib.figure.Figure at 0x19691d82208>"
      ]
     },
     "metadata": {},
     "output_type": "display_data"
    }
   ],
   "source": [
    "sns.kdeplot(accuracy_overall_rf, alpha=0.8, color = 'orange', label = 'Overall Accuracy')\n",
    "sns.kdeplot(accuracy_type2_rf, alpha=0.8, color = 'gray', label = 'Type 2 Error')\n",
    "plt.xlabel('Prediction success')\n",
    "plt.ylabel('Density')\n",
    "plt.legend(loc=1)"
   ]
  },
  {
   "cell_type": "markdown",
   "metadata": {},
   "source": [
    "#### Graph 7: Cross Validation Random Forest vs Decision Tree"
   ]
  },
  {
   "cell_type": "code",
   "execution_count": 16,
   "metadata": {},
   "outputs": [
    {
     "data": {
      "text/plain": [
       "<matplotlib.legend.Legend at 0x19692b253c8>"
      ]
     },
     "execution_count": 16,
     "metadata": {},
     "output_type": "execute_result"
    },
    {
     "data": {
      "image/png": "[encoded data removed]",
      "text/plain": [
       "<matplotlib.figure.Figure at 0x19692b25358>"
      ]
     },
     "metadata": {},
     "output_type": "display_data"
    }
   ],
   "source": [
    "sns.kdeplot(accuracy_overall_rf, alpha=0.8, color = 'orange', label = 'Random Forest')\n",
    "sns.kdeplot(accuracy_overall_dt, alpha=0.8, color = 'gray', label = 'Decision Tree')\n",
    "sns.kdeplot(accuracy_overall_lr, alpha=0.8, color = 'black', label = 'Logistic Regression')\n",
    "plt.xlabel('Prediction success')\n",
    "plt.ylabel('Density')\n",
    "plt.legend(loc=1)"
   ]
  },
  {
   "cell_type": "markdown",
   "metadata": {},
   "source": [
    "#### Graph 8: Cross Validation RF vs DT (type 2 error)"
   ]
  },
  {
   "cell_type": "code",
   "execution_count": 17,
   "metadata": {},
   "outputs": [
    {
     "data": {
      "text/plain": [
       "<matplotlib.legend.Legend at 0x19691d97ba8>"
      ]
     },
     "execution_count": 17,
     "metadata": {},
     "output_type": "execute_result"
    },
    {
     "data": {
      "image/png": "[encoded data removed]",
      "text/plain": [
       "<matplotlib.figure.Figure at 0x19691d97e10>"
      ]
     },
     "metadata": {},
     "output_type": "display_data"
    }
   ],
   "source": [
    "sns.kdeplot(accuracy_type2_rf, alpha=0.8, color = 'orange', label = 'Random Forest')\n",
    "sns.kdeplot(accuracy_type2_dt, alpha=0.8, color = 'gray', label = 'Decision Tree')\n",
    "plt.xlabel('Prediction success')\n",
    "plt.ylabel('Density')\n",
    "plt.legend(loc=1)"
   ]
  },
  {
   "cell_type": "markdown",
   "metadata": {},
   "source": [
    "### 1.4. Get importance of the variables of the best model"
   ]
  },
  {
   "cell_type": "code",
   "execution_count": 18,
   "metadata": {},
   "outputs": [
    {
     "name": "stdout",
     "output_type": "stream",
     "text": [
      "('paaverbal', 0.32877396686268384)\n",
      "('paamat', 0.3196027892337282)\n",
      "('nem', 0.24064939612066608)\n",
      "('took_soc', 0.025438906358947272)\n",
      "('took_bio', 0.019374678197366445)\n",
      "('took_hist', 0.01831667349400126)\n",
      "('took_mat', 0.01673370761948829)\n",
      "('took_fis', 0.012675155574841604)\n",
      "('took_qui', 0.012112948003752408)\n",
      "('male', 0.006321778534524575)\n"
     ]
    }
   ],
   "source": [
    "clf = RandomForestClassifier()\n",
    "clf = clf.fit(X_train_transformed, y_train)\n",
    "y_test_hat = clf.predict(X_test_transformed)  #Prob of bad Teacher\n",
    "acc_overall = np.mean(y_test == y_test_hat)\n",
    "acc_type2 = np.mean(y_test[y_test_hat==1] == y_test_hat[y_test_hat==1])\n",
    "accuracy_overall_rf.append(acc_overall)\n",
    "accuracy_type2_rf.append(acc_type2)\n",
    "\n",
    "importance = clf.feature_importances_\n",
    "FeatImp = {}\n",
    "\n",
    "feature_list = list(X_train_transformed.columns)\n",
    "\n",
    "for x in range(0,len(feature_list)):\n",
    "    if importance[x]>0:\n",
    "        FeatImp[feature_list[x]]=importance[x]\n",
    "        \n",
    "s = [(k, FeatImp[k]) for k in sorted(FeatImp, key=FeatImp.get, reverse=True)]\n",
    "for item in s:\n",
    "    print(item)"
   ]
  },
  {
   "cell_type": "code",
   "execution_count": 23,
   "metadata": {},
   "outputs": [
    {
     "data": {
      "image/png": "[encoded data removed]",
      "text/plain": [
       "<matplotlib.figure.Figure at 0x19692c5c198>"
      ]
     },
     "metadata": {},
     "output_type": "display_data"
    }
   ],
   "source": [
    "plt.bar(range(len(FeatImp)), list(FeatImp.values()), align='center')\n",
    "plt.xticks(range(len(FeatImp)), list(FeatImp.keys()), rotation='vertical')\n",
    "plt.show()"
   ]
  },
  {
   "cell_type": "markdown",
   "metadata": {},
   "source": [
    "### 1.4. Prediction of the portfolio score"
   ]
  },
  {
   "cell_type": "code",
   "execution_count": null,
   "metadata": {},
   "outputs": [],
   "source": [
    "X_train_transformed, X_test_transformed, y_train, y_test = train_test_split(X_transformed, Y, test_size=0.15)\n",
    "\n",
    "clf = RandomForestClassifier()\n",
    "clf = clf.fit(X_train_transformed, y_train)\n",
    "y_test_hat = clf.predict(X_test_transformed)  #Prob of bad Teacher\n",
    "acc_overall = np.mean(y_test == y_test_hat)\n",
    "acc_type2 = np.mean(y_test[y_test_hat==1] == y_test_hat[y_test_hat==1])\n",
    "accuracy_overall_rf.append(acc_overall)\n",
    "accuracy_type2_rf.append(acc_type2)\n",
    "\n",
    "importance = clf.feature_importances_\n",
    "FeatImp = {}\n",
    "\n",
    "feature_list = list(X_train_transformed.columns)\n",
    "\n",
    "for x in range(0,len(feature_list)):\n",
    "    if importance[x]>0:\n",
    "        FeatImp[feature_list[x]]=importance[x]\n",
    "        \n",
    "s = [(k, FeatImp[k]) for k in sorted(FeatImp, key=FeatImp.get, reverse=True)]\n",
    "for item in s:\n",
    "    print(item)"
   ]
  },
  {
   "cell_type": "code",
   "execution_count": 32,
   "metadata": {},
   "outputs": [
    {
     "data": {
      "text/plain": [
       "((56947, 10), (56947, 22))"
      ]
     },
     "execution_count": 32,
     "metadata": {},
     "output_type": "execute_result"
    }
   ],
   "source": []
  },
  {
   "cell_type": "code",
   "execution_count": 33,
   "metadata": {},
   "outputs": [
    {
     "data": {
      "text/html": [
       "<div>\n",
       "<style scoped>\n",
       "    .dataframe tbody tr th:only-of-type {\n",
       "        vertical-align: middle;\n",
       "    }\n",
       "\n",
       "    .dataframe tbody tr th {\n",
       "        vertical-align: top;\n",
       "    }\n",
       "\n",
       "    .dataframe thead th {\n",
       "        text-align: right;\n",
       "    }\n",
       "</style>\n",
       "<table border=\"1\" class=\"dataframe\">\n",
       "  <thead>\n",
       "    <tr style=\"text-align: right;\">\n",
       "      <th></th>\n",
       "      <th>paaverbal</th>\n",
       "      <th>paamat</th>\n",
       "      <th>nem</th>\n",
       "      <th>gpa</th>\n",
       "      <th>pce_hria_y_geografia</th>\n",
       "      <th>pce_biologia</th>\n",
       "      <th>pce_cs_sociales</th>\n",
       "      <th>pce_fisica</th>\n",
       "      <th>pce_matematica</th>\n",
       "      <th>pce_quimica</th>\n",
       "      <th>...</th>\n",
       "      <th>took_bio</th>\n",
       "      <th>took_soc</th>\n",
       "      <th>took_fis</th>\n",
       "      <th>took_mat</th>\n",
       "      <th>took_qui</th>\n",
       "      <th>region</th>\n",
       "      <th>male</th>\n",
       "      <th>pf_pje</th>\n",
       "      <th>xtile</th>\n",
       "      <th>worst</th>\n",
       "    </tr>\n",
       "  </thead>\n",
       "  <tbody>\n",
       "    <tr>\n",
       "      <th>1</th>\n",
       "      <td>2.630982</td>\n",
       "      <td>1.524038</td>\n",
       "      <td>-1.034711</td>\n",
       "      <td>-1.037659</td>\n",
       "      <td>-0.923617</td>\n",
       "      <td>0.982383</td>\n",
       "      <td>1.227033</td>\n",
       "      <td>2.419959</td>\n",
       "      <td>1.193927</td>\n",
       "      <td>-0.397064</td>\n",
       "      <td>...</td>\n",
       "      <td>False</td>\n",
       "      <td>False</td>\n",
       "      <td>False</td>\n",
       "      <td>False</td>\n",
       "      <td>True</td>\n",
       "      <td>6</td>\n",
       "      <td>1</td>\n",
       "      <td>2.27</td>\n",
       "      <td>percentil: 4</td>\n",
       "      <td>False</td>\n",
       "    </tr>\n",
       "    <tr>\n",
       "      <th>2</th>\n",
       "      <td>2.630982</td>\n",
       "      <td>1.524038</td>\n",
       "      <td>-1.034711</td>\n",
       "      <td>-1.037659</td>\n",
       "      <td>-0.923617</td>\n",
       "      <td>0.982383</td>\n",
       "      <td>1.227033</td>\n",
       "      <td>2.419959</td>\n",
       "      <td>1.193927</td>\n",
       "      <td>-0.397064</td>\n",
       "      <td>...</td>\n",
       "      <td>False</td>\n",
       "      <td>False</td>\n",
       "      <td>False</td>\n",
       "      <td>False</td>\n",
       "      <td>True</td>\n",
       "      <td>6</td>\n",
       "      <td>1</td>\n",
       "      <td>2.27</td>\n",
       "      <td>percentil: 4</td>\n",
       "      <td>False</td>\n",
       "    </tr>\n",
       "    <tr>\n",
       "      <th>3</th>\n",
       "      <td>2.446207</td>\n",
       "      <td>1.624895</td>\n",
       "      <td>-1.319489</td>\n",
       "      <td>-1.323083</td>\n",
       "      <td>-0.923617</td>\n",
       "      <td>-1.229576</td>\n",
       "      <td>1.464290</td>\n",
       "      <td>-0.480576</td>\n",
       "      <td>1.154688</td>\n",
       "      <td>-0.397064</td>\n",
       "      <td>...</td>\n",
       "      <td>True</td>\n",
       "      <td>False</td>\n",
       "      <td>True</td>\n",
       "      <td>False</td>\n",
       "      <td>True</td>\n",
       "      <td>7</td>\n",
       "      <td>1</td>\n",
       "      <td>2.27</td>\n",
       "      <td>percentil: 4</td>\n",
       "      <td>False</td>\n",
       "    </tr>\n",
       "    <tr>\n",
       "      <th>4</th>\n",
       "      <td>2.630982</td>\n",
       "      <td>1.524038</td>\n",
       "      <td>-1.034711</td>\n",
       "      <td>-1.037659</td>\n",
       "      <td>-0.923617</td>\n",
       "      <td>0.982383</td>\n",
       "      <td>1.227033</td>\n",
       "      <td>2.419959</td>\n",
       "      <td>1.193927</td>\n",
       "      <td>-0.397064</td>\n",
       "      <td>...</td>\n",
       "      <td>False</td>\n",
       "      <td>False</td>\n",
       "      <td>False</td>\n",
       "      <td>False</td>\n",
       "      <td>True</td>\n",
       "      <td>6</td>\n",
       "      <td>1</td>\n",
       "      <td>2.27</td>\n",
       "      <td>percentil: 4</td>\n",
       "      <td>False</td>\n",
       "    </tr>\n",
       "    <tr>\n",
       "      <th>7</th>\n",
       "      <td>2.375139</td>\n",
       "      <td>0.679358</td>\n",
       "      <td>-0.806889</td>\n",
       "      <td>-0.809320</td>\n",
       "      <td>-0.923617</td>\n",
       "      <td>1.081883</td>\n",
       "      <td>-1.156490</td>\n",
       "      <td>-0.480576</td>\n",
       "      <td>1.288101</td>\n",
       "      <td>-0.397064</td>\n",
       "      <td>...</td>\n",
       "      <td>False</td>\n",
       "      <td>True</td>\n",
       "      <td>True</td>\n",
       "      <td>False</td>\n",
       "      <td>True</td>\n",
       "      <td>6</td>\n",
       "      <td>0</td>\n",
       "      <td>2.06</td>\n",
       "      <td>percentil: 1</td>\n",
       "      <td>True</td>\n",
       "    </tr>\n",
       "  </tbody>\n",
       "</table>\n",
       "<p>5 rows × 22 columns</p>\n",
       "</div>"
      ],
      "text/plain": [
       "   paaverbal    paamat       nem       gpa  pce_hria_y_geografia  \\\n",
       "1   2.630982  1.524038 -1.034711 -1.037659             -0.923617   \n",
       "2   2.630982  1.524038 -1.034711 -1.037659             -0.923617   \n",
       "3   2.446207  1.624895 -1.319489 -1.323083             -0.923617   \n",
       "4   2.630982  1.524038 -1.034711 -1.037659             -0.923617   \n",
       "7   2.375139  0.679358 -0.806889 -0.809320             -0.923617   \n",
       "\n",
       "   pce_biologia  pce_cs_sociales  pce_fisica  pce_matematica  pce_quimica  \\\n",
       "1      0.982383         1.227033    2.419959        1.193927    -0.397064   \n",
       "2      0.982383         1.227033    2.419959        1.193927    -0.397064   \n",
       "3     -1.229576         1.464290   -0.480576        1.154688    -0.397064   \n",
       "4      0.982383         1.227033    2.419959        1.193927    -0.397064   \n",
       "7      1.081883        -1.156490   -0.480576        1.288101    -0.397064   \n",
       "\n",
       "   ...    took_bio  took_soc  took_fis  took_mat  took_qui  region  male  \\\n",
       "1  ...       False     False     False     False      True       6     1   \n",
       "2  ...       False     False     False     False      True       6     1   \n",
       "3  ...        True     False      True     False      True       7     1   \n",
       "4  ...       False     False     False     False      True       6     1   \n",
       "7  ...       False      True      True     False      True       6     0   \n",
       "\n",
       "   pf_pje         xtile  worst  \n",
       "1    2.27  percentil: 4  False  \n",
       "2    2.27  percentil: 4  False  \n",
       "3    2.27  percentil: 4  False  \n",
       "4    2.27  percentil: 4  False  \n",
       "7    2.06  percentil: 1   True  \n",
       "\n",
       "[5 rows x 22 columns]"
      ]
     },
     "execution_count": 33,
     "metadata": {},
     "output_type": "execute_result"
    }
   ],
   "source": []
  },
  {
   "cell_type": "code",
   "execution_count": 35,
   "metadata": {},
   "outputs": [
    {
     "data": {
      "text/html": [
       "<div>\n",
       "<style scoped>\n",
       "    .dataframe tbody tr th:only-of-type {\n",
       "        vertical-align: middle;\n",
       "    }\n",
       "\n",
       "    .dataframe tbody tr th {\n",
       "        vertical-align: top;\n",
       "    }\n",
       "\n",
       "    .dataframe thead th {\n",
       "        text-align: right;\n",
       "    }\n",
       "</style>\n",
       "<table border=\"1\" class=\"dataframe\">\n",
       "  <thead>\n",
       "    <tr style=\"text-align: right;\">\n",
       "      <th></th>\n",
       "      <th>male</th>\n",
       "      <th>nem</th>\n",
       "      <th>paamat</th>\n",
       "      <th>paaverbal</th>\n",
       "      <th>took_bio</th>\n",
       "      <th>took_fis</th>\n",
       "      <th>took_hist</th>\n",
       "      <th>took_mat</th>\n",
       "      <th>took_qui</th>\n",
       "      <th>took_soc</th>\n",
       "    </tr>\n",
       "  </thead>\n",
       "  <tbody>\n",
       "    <tr>\n",
       "      <th>1</th>\n",
       "      <td>1</td>\n",
       "      <td>-1.034711</td>\n",
       "      <td>1.524038</td>\n",
       "      <td>2.630982</td>\n",
       "      <td>False</td>\n",
       "      <td>False</td>\n",
       "      <td>True</td>\n",
       "      <td>False</td>\n",
       "      <td>True</td>\n",
       "      <td>False</td>\n",
       "    </tr>\n",
       "    <tr>\n",
       "      <th>2</th>\n",
       "      <td>1</td>\n",
       "      <td>-1.034711</td>\n",
       "      <td>1.524038</td>\n",
       "      <td>2.630982</td>\n",
       "      <td>False</td>\n",
       "      <td>False</td>\n",
       "      <td>True</td>\n",
       "      <td>False</td>\n",
       "      <td>True</td>\n",
       "      <td>False</td>\n",
       "    </tr>\n",
       "    <tr>\n",
       "      <th>3</th>\n",
       "      <td>1</td>\n",
       "      <td>-1.319489</td>\n",
       "      <td>1.624895</td>\n",
       "      <td>2.446207</td>\n",
       "      <td>True</td>\n",
       "      <td>True</td>\n",
       "      <td>True</td>\n",
       "      <td>False</td>\n",
       "      <td>True</td>\n",
       "      <td>False</td>\n",
       "    </tr>\n",
       "    <tr>\n",
       "      <th>4</th>\n",
       "      <td>1</td>\n",
       "      <td>-1.034711</td>\n",
       "      <td>1.524038</td>\n",
       "      <td>2.630982</td>\n",
       "      <td>False</td>\n",
       "      <td>False</td>\n",
       "      <td>True</td>\n",
       "      <td>False</td>\n",
       "      <td>True</td>\n",
       "      <td>False</td>\n",
       "    </tr>\n",
       "    <tr>\n",
       "      <th>7</th>\n",
       "      <td>0</td>\n",
       "      <td>-0.806889</td>\n",
       "      <td>0.679358</td>\n",
       "      <td>2.375139</td>\n",
       "      <td>False</td>\n",
       "      <td>True</td>\n",
       "      <td>True</td>\n",
       "      <td>False</td>\n",
       "      <td>True</td>\n",
       "      <td>True</td>\n",
       "    </tr>\n",
       "  </tbody>\n",
       "</table>\n",
       "</div>"
      ],
      "text/plain": [
       "   male       nem    paamat  paaverbal  took_bio  took_fis  took_hist  \\\n",
       "1     1 -1.034711  1.524038   2.630982     False     False       True   \n",
       "2     1 -1.034711  1.524038   2.630982     False     False       True   \n",
       "3     1 -1.319489  1.624895   2.446207      True      True       True   \n",
       "4     1 -1.034711  1.524038   2.630982     False     False       True   \n",
       "7     0 -0.806889  0.679358   2.375139     False      True       True   \n",
       "\n",
       "   took_mat  took_qui  took_soc  \n",
       "1     False      True     False  \n",
       "2     False      True     False  \n",
       "3     False      True     False  \n",
       "4     False      True     False  \n",
       "7     False      True      True  "
      ]
     },
     "execution_count": 35,
     "metadata": {},
     "output_type": "execute_result"
    }
   ],
   "source": []
  }
 ],
 "metadata": {
  "kernelspec": {
   "display_name": "Python 3",
   "language": "python",
   "name": "python3"
  },
  "language_info": {
   "codemirror_mode": {
    "name": "ipython",
    "version": 3
   },
   "file_extension": ".py",
   "mimetype": "text/x-python",
   "name": "python",
   "nbconvert_exporter": "python",
   "pygments_lexer": "ipython3",
   "version": "3.6.4"
  }
 },
 "nbformat": 4,
 "nbformat_minor": 2
}
